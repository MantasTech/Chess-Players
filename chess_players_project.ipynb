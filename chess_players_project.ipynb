{
 "cells": [
  {
   "cell_type": "markdown",
   "id": "ad49d202-ee89-43a7-bd3a-62d08623ae7c",
   "metadata": {},
   "source": [
    "# ♞ Top Chess Players: Data Wrangling"
   ]
  },
  {
   "cell_type": "markdown",
   "id": "4f6701f2-5d91-4780-a0cf-fd56ee028a9e",
   "metadata": {},
   "source": [
    "Performed Data Wrangling for Top Chess Players Data. Cleaned Data Was Used for Further Analysis and Visualization with Tableau.\n",
    "\n",
    "1. Removed rows with missing values (Removed = 794 rows)\n",
    "2. Removed duplicate rows (removed = 35666 rows)\n",
    "3. Removed players without official FIDE title (removed = 78150 rows)\n",
    "4. Removed players without country (removed = 1312 rows)\n",
    "5. Removed `profilelink` and `profileimage` columns\n",
    "6. Changed data types for `rank`, `rating` and `lastupdated` columns\n",
    "7. Added new column `rating_category`\n",
    "8. Created 2 more data frames showing: `average rating / title` and `average rating / country`\n",
    "\n",
    "*Original data = 196664 rows*  \n",
    "*Cleaned data = 81254 rows*"
   ]
  },
  {
   "cell_type": "code",
   "execution_count": 103,
   "id": "0a45cd27-3f39-48af-8218-e3c358007a61",
   "metadata": {},
   "outputs": [],
   "source": [
    "# import libraries\n",
    "import pandas as pd\n",
    "import numpy as np"
   ]
  },
  {
   "cell_type": "code",
   "execution_count": 104,
   "id": "267df08d-a1f6-4080-bdce-b8673b59d2e1",
   "metadata": {},
   "outputs": [],
   "source": [
    "# read CSV file\n",
    "chess_df = pd.read_csv('TopPlayers.csv', low_memory=False)"
   ]
  },
  {
   "cell_type": "markdown",
   "id": "b826cb7f-84e1-4b20-a0e7-1687cf970fd9",
   "metadata": {},
   "source": [
    "---\n",
    "## 1. Data Overview"
   ]
  },
  {
   "cell_type": "code",
   "execution_count": 105,
   "id": "ea43869b-cddc-41ba-a7e9-e3bbf8bb0cb2",
   "metadata": {},
   "outputs": [
    {
     "data": {
      "application/vnd.dataresource+json": {
       "data": [
        {
         "country": "Norway",
         "index": 0,
         "lastupdated": "03-12-2023",
         "name": "Magnus Carlsen",
         "profileimage": "https://images.chesscomfiles.com/uploads/v1/master_player/3b0ddf4e-bd82-11e8-9421-af517c2ebfed.23bcb9e8.160x160o.827f073930a6.jpg",
         "profilelink": "https://www.chess.com/players/magnus-carlsen",
         "rank": " 1",
         "rating": "2830 ",
         "title": "GM"
        },
        {
         "country": "United States",
         "index": 1,
         "lastupdated": "03-12-2023",
         "name": "Fabiano Caruana",
         "profileimage": "https://images.chesscomfiles.com/uploads/v1/master_player/c66cb17a-c005-11e8-886b-692f3468f8e7.00782bce.160x160o.f7375480eb71.png",
         "profilelink": "https://www.chess.com/players/fabiano-caruana",
         "rank": " 2",
         "rating": "2796 ",
         "title": "GM"
        },
        {
         "country": "United States",
         "index": 2,
         "lastupdated": "03-12-2023",
         "name": "Hikaru Nakamura",
         "profileimage": "https://images.chesscomfiles.com/uploads/v1/master_player/5c8147c2-bd7f-11e8-863f-15ded6970bf6.00cda418.160x160o.f0afaf60588d.png",
         "profilelink": "https://www.chess.com/players/hikaru-nakamura",
         "rank": " 3",
         "rating": "2788 ",
         "title": "GM"
        },
        {
         "country": "China",
         "index": 3,
         "lastupdated": "03-12-2023",
         "name": "Ding Liren",
         "profileimage": "https://images.chesscomfiles.com/uploads/v1/master_player/00ffadde-d6a8-11e8-bdb9-933b839db343.cfaaa8b2.160x160o.d41a89648919.png",
         "profilelink": "https://www.chess.com/players/ding-liren",
         "rank": " 4",
         "rating": "2780 ",
         "title": "GM"
        },
        {
         "country": "Russia",
         "index": 4,
         "lastupdated": "03-12-2023",
         "name": "Ian Nepomniachtchi",
         "profileimage": "/bundles/web/images/user-image.007dad08.svg",
         "profilelink": "https://www.chess.com/players/ian-nepomniachtchi",
         "rank": " 5",
         "rating": "2770 ",
         "title": "GM"
        }
       ],
       "schema": {
        "fields": [
         {
          "name": "index",
          "type": "integer"
         },
         {
          "name": "name",
          "type": "string"
         },
         {
          "name": "rank",
          "type": "string"
         },
         {
          "name": "rating",
          "type": "string"
         },
         {
          "name": "country",
          "type": "string"
         },
         {
          "name": "title",
          "type": "string"
         },
         {
          "name": "profilelink",
          "type": "string"
         },
         {
          "name": "profileimage",
          "type": "string"
         },
         {
          "name": "lastupdated",
          "type": "string"
         }
        ],
        "pandas_version": "1.4.0",
        "primaryKey": [
         "index"
        ]
       }
      },
      "text/html": [
       "<div>\n",
       "<style scoped>\n",
       "    .dataframe tbody tr th:only-of-type {\n",
       "        vertical-align: middle;\n",
       "    }\n",
       "\n",
       "    .dataframe tbody tr th {\n",
       "        vertical-align: top;\n",
       "    }\n",
       "\n",
       "    .dataframe thead th {\n",
       "        text-align: right;\n",
       "    }\n",
       "</style>\n",
       "<table border=\"1\" class=\"dataframe\">\n",
       "  <thead>\n",
       "    <tr style=\"text-align: right;\">\n",
       "      <th></th>\n",
       "      <th>name</th>\n",
       "      <th>rank</th>\n",
       "      <th>rating</th>\n",
       "      <th>country</th>\n",
       "      <th>title</th>\n",
       "      <th>profilelink</th>\n",
       "      <th>profileimage</th>\n",
       "      <th>lastupdated</th>\n",
       "    </tr>\n",
       "  </thead>\n",
       "  <tbody>\n",
       "    <tr>\n",
       "      <th>0</th>\n",
       "      <td>Magnus Carlsen</td>\n",
       "      <td>1</td>\n",
       "      <td>2830</td>\n",
       "      <td>Norway</td>\n",
       "      <td>GM</td>\n",
       "      <td>https://www.chess.com/players/magnus-carlsen</td>\n",
       "      <td>https://images.chesscomfiles.com/uploads/v1/ma...</td>\n",
       "      <td>03-12-2023</td>\n",
       "    </tr>\n",
       "    <tr>\n",
       "      <th>1</th>\n",
       "      <td>Fabiano Caruana</td>\n",
       "      <td>2</td>\n",
       "      <td>2796</td>\n",
       "      <td>United States</td>\n",
       "      <td>GM</td>\n",
       "      <td>https://www.chess.com/players/fabiano-caruana</td>\n",
       "      <td>https://images.chesscomfiles.com/uploads/v1/ma...</td>\n",
       "      <td>03-12-2023</td>\n",
       "    </tr>\n",
       "    <tr>\n",
       "      <th>2</th>\n",
       "      <td>Hikaru Nakamura</td>\n",
       "      <td>3</td>\n",
       "      <td>2788</td>\n",
       "      <td>United States</td>\n",
       "      <td>GM</td>\n",
       "      <td>https://www.chess.com/players/hikaru-nakamura</td>\n",
       "      <td>https://images.chesscomfiles.com/uploads/v1/ma...</td>\n",
       "      <td>03-12-2023</td>\n",
       "    </tr>\n",
       "    <tr>\n",
       "      <th>3</th>\n",
       "      <td>Ding Liren</td>\n",
       "      <td>4</td>\n",
       "      <td>2780</td>\n",
       "      <td>China</td>\n",
       "      <td>GM</td>\n",
       "      <td>https://www.chess.com/players/ding-liren</td>\n",
       "      <td>https://images.chesscomfiles.com/uploads/v1/ma...</td>\n",
       "      <td>03-12-2023</td>\n",
       "    </tr>\n",
       "    <tr>\n",
       "      <th>4</th>\n",
       "      <td>Ian Nepomniachtchi</td>\n",
       "      <td>5</td>\n",
       "      <td>2770</td>\n",
       "      <td>Russia</td>\n",
       "      <td>GM</td>\n",
       "      <td>https://www.chess.com/players/ian-nepomniachtchi</td>\n",
       "      <td>/bundles/web/images/user-image.007dad08.svg</td>\n",
       "      <td>03-12-2023</td>\n",
       "    </tr>\n",
       "  </tbody>\n",
       "</table>\n",
       "</div>"
      ],
      "text/plain": [
       "                 name rank rating        country title  \\\n",
       "0      Magnus Carlsen    1  2830          Norway    GM   \n",
       "1     Fabiano Caruana    2  2796   United States    GM   \n",
       "2     Hikaru Nakamura    3  2788   United States    GM   \n",
       "3          Ding Liren    4  2780           China    GM   \n",
       "4  Ian Nepomniachtchi    5  2770          Russia    GM   \n",
       "\n",
       "                                        profilelink  \\\n",
       "0      https://www.chess.com/players/magnus-carlsen   \n",
       "1     https://www.chess.com/players/fabiano-caruana   \n",
       "2     https://www.chess.com/players/hikaru-nakamura   \n",
       "3          https://www.chess.com/players/ding-liren   \n",
       "4  https://www.chess.com/players/ian-nepomniachtchi   \n",
       "\n",
       "                                        profileimage lastupdated  \n",
       "0  https://images.chesscomfiles.com/uploads/v1/ma...  03-12-2023  \n",
       "1  https://images.chesscomfiles.com/uploads/v1/ma...  03-12-2023  \n",
       "2  https://images.chesscomfiles.com/uploads/v1/ma...  03-12-2023  \n",
       "3  https://images.chesscomfiles.com/uploads/v1/ma...  03-12-2023  \n",
       "4        /bundles/web/images/user-image.007dad08.svg  03-12-2023  "
      ]
     },
     "execution_count": 105,
     "metadata": {},
     "output_type": "execute_result"
    }
   ],
   "source": [
    "chess_df.head()"
   ]
  },
  {
   "cell_type": "code",
   "execution_count": 106,
   "id": "41218fee-f73c-481c-b313-ebd8a9de2fb2",
   "metadata": {},
   "outputs": [
    {
     "name": "stdout",
     "output_type": "stream",
     "text": [
      "<class 'pandas.core.frame.DataFrame'>\n",
      "RangeIndex: 196664 entries, 0 to 196663\n",
      "Data columns (total 8 columns):\n",
      " #   Column        Non-Null Count   Dtype \n",
      "---  ------        --------------   ----- \n",
      " 0   name          196664 non-null  object\n",
      " 1   rank          196664 non-null  object\n",
      " 2   rating        196664 non-null  object\n",
      " 3   country       196664 non-null  object\n",
      " 4   title         98538 non-null   object\n",
      " 5   profilelink   196664 non-null  object\n",
      " 6   profileimage  196664 non-null  object\n",
      " 7   lastupdated   196664 non-null  object\n",
      "dtypes: object(8)\n",
      "memory usage: 12.0+ MB\n"
     ]
    }
   ],
   "source": [
    "chess_df.info()"
   ]
  },
  {
   "cell_type": "code",
   "execution_count": 107,
   "id": "60e04f55-c739-4d77-ae2c-76a2f23078a2",
   "metadata": {},
   "outputs": [
    {
     "name": "stdout",
     "output_type": "stream",
     "text": [
      "non-numeric values in rank: 794\n"
     ]
    }
   ],
   "source": [
    "# Check for non-numerical values\n",
    "non_numeric = pd.to_numeric(chess_df['rank'], errors='coerce').isna().sum()\n",
    "print('non-numeric values in rank:', non_numeric)"
   ]
  },
  {
   "cell_type": "code",
   "execution_count": 108,
   "id": "280e68b0-3b0a-4e68-a01d-ef0f99dadf9e",
   "metadata": {},
   "outputs": [
    {
     "data": {
      "application/vnd.dataresource+json": {
       "data": [
        {
         "country": "Türkiye",
         "index": 99,
         "lastupdated": "03-12-2023",
         "name": "Alexander Ipatov",
         "profileimage": "/bundles/web/images/user-image.007dad08.svg",
         "profilelink": "https://www.chess.com/players/alexander-vladimirovich-ipatov",
         "rank": "e",
         "rating": "N",
         "title": "GM"
        },
        {
         "country": "Canada",
         "index": 118,
         "lastupdated": "03-12-2023",
         "name": "Anton Kovalyov",
         "profileimage": "/bundles/web/images/user-image.007dad08.svg",
         "profilelink": "https://www.chess.com/players/anton-kovalyov",
         "rank": "e",
         "rating": "N",
         "title": "GM"
        },
        {
         "country": "Russia",
         "index": 125,
         "lastupdated": "03-12-2023",
         "name": "Konstantin Landa",
         "profileimage": "https://images.chesscomfiles.com/uploads/v1/master_player/7a69beaa-a755-11eb-925b-c1048347135e.9d3c77e8.160x160o.95e385921c4e.png",
         "profilelink": "https://www.chess.com/players/konstantin-landa",
         "rank": "e",
         "rating": "N",
         "title": "GM"
        },
        {
         "country": "Belarus",
         "index": 297,
         "lastupdated": "03-12-2023",
         "name": "Sergei Zhigalko",
         "profileimage": "/bundles/web/images/user-image.007dad08.svg",
         "profilelink": "https://www.chess.com/players/sergei-zhigalko",
         "rank": "e",
         "rating": "N",
         "title": "GM"
        },
        {
         "country": "Russia",
         "index": 406,
         "lastupdated": "03-12-2023",
         "name": "Andrey Stukopin",
         "profileimage": "/bundles/web/images/user-image.007dad08.svg",
         "profilelink": "https://www.chess.com/players/andrey-stukopin",
         "rank": "e",
         "rating": "N",
         "title": "GM"
        }
       ],
       "schema": {
        "fields": [
         {
          "name": "index",
          "type": "integer"
         },
         {
          "name": "name",
          "type": "string"
         },
         {
          "name": "rank",
          "type": "string"
         },
         {
          "name": "rating",
          "type": "string"
         },
         {
          "name": "country",
          "type": "string"
         },
         {
          "name": "title",
          "type": "string"
         },
         {
          "name": "profilelink",
          "type": "string"
         },
         {
          "name": "profileimage",
          "type": "string"
         },
         {
          "name": "lastupdated",
          "type": "string"
         }
        ],
        "pandas_version": "1.4.0",
        "primaryKey": [
         "index"
        ]
       }
      },
      "text/html": [
       "<div>\n",
       "<style scoped>\n",
       "    .dataframe tbody tr th:only-of-type {\n",
       "        vertical-align: middle;\n",
       "    }\n",
       "\n",
       "    .dataframe tbody tr th {\n",
       "        vertical-align: top;\n",
       "    }\n",
       "\n",
       "    .dataframe thead th {\n",
       "        text-align: right;\n",
       "    }\n",
       "</style>\n",
       "<table border=\"1\" class=\"dataframe\">\n",
       "  <thead>\n",
       "    <tr style=\"text-align: right;\">\n",
       "      <th></th>\n",
       "      <th>name</th>\n",
       "      <th>rank</th>\n",
       "      <th>rating</th>\n",
       "      <th>country</th>\n",
       "      <th>title</th>\n",
       "      <th>profilelink</th>\n",
       "      <th>profileimage</th>\n",
       "      <th>lastupdated</th>\n",
       "    </tr>\n",
       "  </thead>\n",
       "  <tbody>\n",
       "    <tr>\n",
       "      <th>99</th>\n",
       "      <td>Alexander Ipatov</td>\n",
       "      <td>e</td>\n",
       "      <td>N</td>\n",
       "      <td>Türkiye</td>\n",
       "      <td>GM</td>\n",
       "      <td>https://www.chess.com/players/alexander-vladim...</td>\n",
       "      <td>/bundles/web/images/user-image.007dad08.svg</td>\n",
       "      <td>03-12-2023</td>\n",
       "    </tr>\n",
       "    <tr>\n",
       "      <th>118</th>\n",
       "      <td>Anton Kovalyov</td>\n",
       "      <td>e</td>\n",
       "      <td>N</td>\n",
       "      <td>Canada</td>\n",
       "      <td>GM</td>\n",
       "      <td>https://www.chess.com/players/anton-kovalyov</td>\n",
       "      <td>/bundles/web/images/user-image.007dad08.svg</td>\n",
       "      <td>03-12-2023</td>\n",
       "    </tr>\n",
       "    <tr>\n",
       "      <th>125</th>\n",
       "      <td>Konstantin Landa</td>\n",
       "      <td>e</td>\n",
       "      <td>N</td>\n",
       "      <td>Russia</td>\n",
       "      <td>GM</td>\n",
       "      <td>https://www.chess.com/players/konstantin-landa</td>\n",
       "      <td>https://images.chesscomfiles.com/uploads/v1/ma...</td>\n",
       "      <td>03-12-2023</td>\n",
       "    </tr>\n",
       "    <tr>\n",
       "      <th>297</th>\n",
       "      <td>Sergei Zhigalko</td>\n",
       "      <td>e</td>\n",
       "      <td>N</td>\n",
       "      <td>Belarus</td>\n",
       "      <td>GM</td>\n",
       "      <td>https://www.chess.com/players/sergei-zhigalko</td>\n",
       "      <td>/bundles/web/images/user-image.007dad08.svg</td>\n",
       "      <td>03-12-2023</td>\n",
       "    </tr>\n",
       "    <tr>\n",
       "      <th>406</th>\n",
       "      <td>Andrey Stukopin</td>\n",
       "      <td>e</td>\n",
       "      <td>N</td>\n",
       "      <td>Russia</td>\n",
       "      <td>GM</td>\n",
       "      <td>https://www.chess.com/players/andrey-stukopin</td>\n",
       "      <td>/bundles/web/images/user-image.007dad08.svg</td>\n",
       "      <td>03-12-2023</td>\n",
       "    </tr>\n",
       "  </tbody>\n",
       "</table>\n",
       "</div>"
      ],
      "text/plain": [
       "                 name rank rating  country title  \\\n",
       "99   Alexander Ipatov    e      N  Türkiye    GM   \n",
       "118    Anton Kovalyov    e      N   Canada    GM   \n",
       "125  Konstantin Landa    e      N   Russia    GM   \n",
       "297   Sergei Zhigalko    e      N  Belarus    GM   \n",
       "406   Andrey Stukopin    e      N   Russia    GM   \n",
       "\n",
       "                                           profilelink  \\\n",
       "99   https://www.chess.com/players/alexander-vladim...   \n",
       "118       https://www.chess.com/players/anton-kovalyov   \n",
       "125     https://www.chess.com/players/konstantin-landa   \n",
       "297      https://www.chess.com/players/sergei-zhigalko   \n",
       "406      https://www.chess.com/players/andrey-stukopin   \n",
       "\n",
       "                                          profileimage lastupdated  \n",
       "99         /bundles/web/images/user-image.007dad08.svg  03-12-2023  \n",
       "118        /bundles/web/images/user-image.007dad08.svg  03-12-2023  \n",
       "125  https://images.chesscomfiles.com/uploads/v1/ma...  03-12-2023  \n",
       "297        /bundles/web/images/user-image.007dad08.svg  03-12-2023  \n",
       "406        /bundles/web/images/user-image.007dad08.svg  03-12-2023  "
      ]
     },
     "execution_count": 108,
     "metadata": {},
     "output_type": "execute_result"
    }
   ],
   "source": [
    "# Filter to show rows where 'rank' is non-numeric\n",
    "wrong_rank = chess_df[pd.to_numeric(chess_df['rank'], errors='coerce').isna()]\n",
    "wrong_rank.head()"
   ]
  },
  {
   "cell_type": "code",
   "execution_count": 109,
   "id": "f78ca84d-e3ef-4128-8e76-638b9e8f8827",
   "metadata": {},
   "outputs": [
    {
     "name": "stdout",
     "output_type": "stream",
     "text": [
      "Value count e:  794\n",
      "Value count N:  794\n"
     ]
    }
   ],
   "source": [
    "a = (chess_df['rank'] == 'e').sum()\n",
    "b = (chess_df['rating'] == 'N').sum()\n",
    "\n",
    "print('Value count e: ',  a)\n",
    "print('Value count N: ',  b)"
   ]
  },
  {
   "cell_type": "code",
   "execution_count": 110,
   "id": "9d637a86-fd4d-47ab-b919-92a76048449f",
   "metadata": {},
   "outputs": [
    {
     "data": {
      "text/plain": [
       "35666"
      ]
     },
     "execution_count": 110,
     "metadata": {},
     "output_type": "execute_result"
    }
   ],
   "source": [
    "# Check for duplicates\n",
    "chess_df.duplicated().sum()"
   ]
  },
  {
   "cell_type": "markdown",
   "id": "4d3f30fe-ea9f-4dd5-aed7-02e04f2cb04f",
   "metadata": {},
   "source": [
    "**Key Findings:**\n",
    "\n",
    "- Half of the players don't have official FIDE title.\n",
    "- All data types are `object`.\n",
    "- 794 rows have incorrect inputs.\n",
    "- 35666 rows have duplicates.\n",
    "---"
   ]
  },
  {
   "cell_type": "markdown",
   "id": "f8fc8a32-6ce7-4a43-8637-e70aae770f6d",
   "metadata": {},
   "source": [
    "## 2. Data Cleaning"
   ]
  },
  {
   "cell_type": "code",
   "execution_count": 111,
   "id": "3aa9002e-fbfa-42aa-86e6-3eb0b6cbb5a1",
   "metadata": {},
   "outputs": [],
   "source": [
    "# drop rows with wrong inputs\n",
    "wrong_inputs = chess_df[(chess_df['rank'] == 'e') & (chess_df['rating'] == 'N')].index\n",
    "chess_df.drop(wrong_inputs, inplace=True)"
   ]
  },
  {
   "cell_type": "code",
   "execution_count": 112,
   "id": "bbe0fd94-a426-4252-90bd-f35ee71c047b",
   "metadata": {},
   "outputs": [
    {
     "name": "stdout",
     "output_type": "stream",
     "text": [
      "Value count e:  0\n",
      "Value count N:  0\n"
     ]
    }
   ],
   "source": [
    "a = (chess_df['rank'] == 'e').sum()\n",
    "b = (chess_df['rating'] == 'N').sum()\n",
    "\n",
    "print('Value count e: ',  a)\n",
    "print('Value count N: ',  b)"
   ]
  },
  {
   "cell_type": "code",
   "execution_count": 113,
   "id": "e89b6dd4-494d-4e0b-a860-69a96f04ae3c",
   "metadata": {},
   "outputs": [
    {
     "data": {
      "text/plain": [
       "1312"
      ]
     },
     "execution_count": 113,
     "metadata": {},
     "output_type": "execute_result"
    }
   ],
   "source": [
    "# Players without assigned country\n",
    "fide_country_count = chess_df[chess_df['country'] == 'FIDE'].shape[0]\n",
    "fide_country_count"
   ]
  },
  {
   "cell_type": "code",
   "execution_count": 114,
   "id": "361911ea-0075-422d-ba3a-98a6b336cfaf",
   "metadata": {},
   "outputs": [],
   "source": [
    "# Remove rows where the 'country' column is 'FIDE'\n",
    "chess_df = chess_df[chess_df['country'] != 'FIDE']"
   ]
  },
  {
   "cell_type": "code",
   "execution_count": 115,
   "id": "aac6d95f-95f7-4897-9c2a-ceb514a7d4f8",
   "metadata": {},
   "outputs": [
    {
     "data": {
      "application/vnd.dataresource+json": {
       "data": [
        {
         "country": "Czech Republic",
         "index": 198,
         "lastupdated": "03-12-2023",
         "name": "Stepan Zilka",
         "profileimage": "/bundles/web/images/user-image.007dad08.svg",
         "profilelink": "https://www.chess.com/players/stepan-zilka",
         "rank": " 192",
         "rating": "2600 ",
         "title": "GM"
        },
        {
         "country": "Czech Republic",
         "index": 200,
         "lastupdated": "03-12-2023",
         "name": "Stepan Zilka",
         "profileimage": "/bundles/web/images/user-image.007dad08.svg",
         "profilelink": "https://www.chess.com/players/stepan-zilka",
         "rank": " 192",
         "rating": "2600 ",
         "title": "GM"
        },
        {
         "country": "Germany",
         "index": 449,
         "lastupdated": "03-12-2023",
         "name": "Dr Florian Handke",
         "profileimage": "/bundles/web/images/user-image.007dad08.svg",
         "profilelink": "https://www.chess.com/players/dr-florian-handke",
         "rank": " 444",
         "rating": "2536 ",
         "title": "GM"
        },
        {
         "country": "Germany",
         "index": 451,
         "lastupdated": "03-12-2023",
         "name": "Dr Florian Handke",
         "profileimage": "/bundles/web/images/user-image.007dad08.svg",
         "profilelink": "https://www.chess.com/players/dr-florian-handke",
         "rank": " 444",
         "rating": "2536 ",
         "title": "GM"
        },
        {
         "country": "Hungary",
         "index": 474,
         "lastupdated": "03-12-2023",
         "name": "Robert Ruck",
         "profileimage": "/bundles/web/images/user-image.007dad08.svg",
         "profilelink": "https://www.chess.com/players/robert-ruck",
         "rank": " 469",
         "rating": "2531 ",
         "title": "GM"
        },
        {
         "country": "Hungary",
         "index": 479,
         "lastupdated": "03-12-2023",
         "name": "Robert Ruck",
         "profileimage": "/bundles/web/images/user-image.007dad08.svg",
         "profilelink": "https://www.chess.com/players/robert-ruck",
         "rank": " 469",
         "rating": "2531 ",
         "title": "GM"
        },
        {
         "country": "Czech Republic",
         "index": 572,
         "lastupdated": "03-12-2023",
         "name": "Jan Bernasek",
         "profileimage": "/bundles/web/images/user-image.007dad08.svg",
         "profilelink": "https://www.chess.com/players/jan-bernasek",
         "rank": " 564",
         "rating": "2515 ",
         "title": "GM"
        },
        {
         "country": "Czech Republic",
         "index": 577,
         "lastupdated": "03-12-2023",
         "name": "Jan Bernasek",
         "profileimage": "/bundles/web/images/user-image.007dad08.svg",
         "profilelink": "https://www.chess.com/players/jan-bernasek",
         "rank": " 564",
         "rating": "2515 ",
         "title": "GM"
        },
        {
         "country": "Germany",
         "index": 623,
         "lastupdated": "03-12-2023",
         "name": "Igor Khenkin",
         "profileimage": "/bundles/web/images/user-image.007dad08.svg",
         "profilelink": "https://www.chess.com/players/igor-khenkin",
         "rank": " 614",
         "rating": "2508 ",
         "title": "GM"
        },
        {
         "country": "Georgia",
         "index": 624,
         "lastupdated": "03-12-2023",
         "name": "Tornike Sanikidse",
         "profileimage": "/bundles/web/images/user-image.007dad08.svg",
         "profilelink": "https://www.chess.com/players/tornike-sanikidse",
         "rank": " 614",
         "rating": "2508 ",
         "title": "GM"
        },
        {
         "country": "Georgia",
         "index": 625,
         "lastupdated": "03-12-2023",
         "name": "Tornike Sanikidse",
         "profileimage": "/bundles/web/images/user-image.007dad08.svg",
         "profilelink": "https://www.chess.com/players/tornike-sanikidse",
         "rank": " 614",
         "rating": "2508 ",
         "title": "GM"
        },
        {
         "country": "Germany",
         "index": 627,
         "lastupdated": "03-12-2023",
         "name": "Igor Khenkin",
         "profileimage": "/bundles/web/images/user-image.007dad08.svg",
         "profilelink": "https://www.chess.com/players/igor-khenkin",
         "rank": " 614",
         "rating": "2508 ",
         "title": "GM"
        },
        {
         "country": "Bulgaria",
         "index": 649,
         "lastupdated": "03-12-2023",
         "name": "Radoslav Dimitrov",
         "profileimage": "/bundles/web/images/user-image.007dad08.svg",
         "profilelink": "https://www.chess.com/players/radoslav-dimitrov",
         "rank": " 635",
         "rating": "2504 ",
         "title": "GM"
        },
        {
         "country": "Bulgaria",
         "index": 651,
         "lastupdated": "03-12-2023",
         "name": "Radoslav Dimitrov",
         "profileimage": "/bundles/web/images/user-image.007dad08.svg",
         "profilelink": "https://www.chess.com/players/radoslav-dimitrov",
         "rank": " 635",
         "rating": "2504 ",
         "title": "GM"
        },
        {
         "country": "Spain",
         "index": 674,
         "lastupdated": "03-12-2023",
         "name": "Jose Angel Guerra Mendez",
         "profileimage": "/bundles/web/images/user-image.007dad08.svg",
         "profilelink": "https://www.chess.com/players/jose-angel-guerra-mendez",
         "rank": " 661",
         "rating": "2500 ",
         "title": "GM"
        },
        {
         "country": "Spain",
         "index": 677,
         "lastupdated": "03-12-2023",
         "name": "Jose Angel Guerra Mendez",
         "profileimage": "/bundles/web/images/user-image.007dad08.svg",
         "profilelink": "https://www.chess.com/players/jose-angel-guerra-mendez",
         "rank": " 661",
         "rating": "2500 ",
         "title": "GM"
        },
        {
         "country": "Sweden",
         "index": 697,
         "lastupdated": "03-12-2023",
         "name": "Tiger Hillarp Persson",
         "profileimage": "/bundles/web/images/user-image.007dad08.svg",
         "profilelink": "https://www.chess.com/players/tiger-hillarp-persson",
         "rank": " 686",
         "rating": "2497 ",
         "title": "GM"
        },
        {
         "country": "Sweden",
         "index": 701,
         "lastupdated": "03-12-2023",
         "name": "Tiger Hillarp Persson",
         "profileimage": "/bundles/web/images/user-image.007dad08.svg",
         "profilelink": "https://www.chess.com/players/tiger-hillarp-persson",
         "rank": " 686",
         "rating": "2497 ",
         "title": "GM"
        },
        {
         "country": "Serbia",
         "index": 724,
         "lastupdated": "03-12-2023",
         "name": "Boban Bogosavljevic",
         "profileimage": "/bundles/web/images/user-image.007dad08.svg",
         "profilelink": "https://www.chess.com/players/boban-bogosavljevic",
         "rank": " 706",
         "rating": "2494 ",
         "title": "GM"
        },
        {
         "country": "Serbia",
         "index": 725,
         "lastupdated": "03-12-2023",
         "name": "Boban Bogosavljevic",
         "profileimage": "/bundles/web/images/user-image.007dad08.svg",
         "profilelink": "https://www.chess.com/players/boban-bogosavljevic",
         "rank": " 706",
         "rating": "2494 ",
         "title": "GM"
        },
        {
         "country": "Greece",
         "index": 747,
         "lastupdated": "03-12-2023",
         "name": "Evgenios Ioannidis",
         "profileimage": "/bundles/web/images/user-image.007dad08.svg",
         "profilelink": "https://www.chess.com/players/evgenios-ioannidis",
         "rank": " 737",
         "rating": "2490 ",
         "title": "IM"
        },
        {
         "country": "Algeria",
         "index": 748,
         "lastupdated": "03-12-2023",
         "name": "Mohamed Haddouche",
         "profileimage": "/bundles/web/images/user-image.007dad08.svg",
         "profilelink": "https://www.chess.com/players/mohamed-haddouche",
         "rank": " 737",
         "rating": "2490 ",
         "title": "GM"
        },
        {
         "country": "Algeria",
         "index": 751,
         "lastupdated": "03-12-2023",
         "name": "Mohamed Haddouche",
         "profileimage": "/bundles/web/images/user-image.007dad08.svg",
         "profilelink": "https://www.chess.com/players/mohamed-haddouche",
         "rank": " 737",
         "rating": "2490 ",
         "title": "GM"
        },
        {
         "country": "Greece",
         "index": 752,
         "lastupdated": "03-12-2023",
         "name": "Evgenios Ioannidis",
         "profileimage": "/bundles/web/images/user-image.007dad08.svg",
         "profilelink": "https://www.chess.com/players/evgenios-ioannidis",
         "rank": " 737",
         "rating": "2490 ",
         "title": "IM"
        },
        {
         "country": "France",
         "index": 774,
         "lastupdated": "03-12-2023",
         "name": "Paul Velten",
         "profileimage": "/bundles/web/images/user-image.007dad08.svg",
         "profilelink": "https://www.chess.com/players/paul-velten",
         "rank": " 765",
         "rating": "2487 ",
         "title": "GM"
        },
        {
         "country": "France",
         "index": 775,
         "lastupdated": "03-12-2023",
         "name": "Paul Velten",
         "profileimage": "/bundles/web/images/user-image.007dad08.svg",
         "profilelink": "https://www.chess.com/players/paul-velten",
         "rank": " 765",
         "rating": "2487 ",
         "title": "GM"
        },
        {
         "country": "Iran",
         "index": 819,
         "lastupdated": "03-12-2023",
         "name": "Masoud Mosadeghpour",
         "profileimage": "/bundles/web/images/user-image.007dad08.svg",
         "profilelink": "https://www.chess.com/players/masoud-mosadeghpour",
         "rank": " 808",
         "rating": "2482 ",
         "title": "GM"
        },
        {
         "country": "Turkmenistan",
         "index": 820,
         "lastupdated": "03-12-2023",
         "name": "Meilis Annaberdiev",
         "profileimage": "/bundles/web/images/user-image.007dad08.svg",
         "profilelink": "https://www.chess.com/players/meilis-annaberdiev",
         "rank": " 808",
         "rating": "2482 ",
         "title": "GM"
        },
        {
         "country": "India",
         "index": 823,
         "lastupdated": "03-12-2023",
         "name": "Bharath Subramaniyam",
         "profileimage": "/bundles/web/images/user-image.007dad08.svg",
         "profilelink": "https://www.chess.com/players/bharath-subramaniyam",
         "rank": " 808",
         "rating": "2482 ",
         "title": "GM"
        },
        {
         "country": "Israel",
         "index": 825,
         "lastupdated": "03-12-2023",
         "name": "Artur Kogan",
         "profileimage": "/bundles/web/images/user-image.007dad08.svg",
         "profilelink": "https://www.chess.com/players/artur-kogan",
         "rank": " 808",
         "rating": "2482 ",
         "title": "GM"
        },
        {
         "country": "Iran",
         "index": 826,
         "lastupdated": "03-12-2023",
         "name": "Masoud Mosadeghpour",
         "profileimage": "/bundles/web/images/user-image.007dad08.svg",
         "profilelink": "https://www.chess.com/players/masoud-mosadeghpour",
         "rank": " 808",
         "rating": "2482 ",
         "title": "GM"
        },
        {
         "country": "Turkmenistan",
         "index": 827,
         "lastupdated": "03-12-2023",
         "name": "Meilis Annaberdiev",
         "profileimage": "/bundles/web/images/user-image.007dad08.svg",
         "profilelink": "https://www.chess.com/players/meilis-annaberdiev",
         "rank": " 808",
         "rating": "2482 ",
         "title": "GM"
        },
        {
         "country": "Israel",
         "index": 828,
         "lastupdated": "03-12-2023",
         "name": "Artur Kogan",
         "profileimage": "/bundles/web/images/user-image.007dad08.svg",
         "profilelink": "https://www.chess.com/players/artur-kogan",
         "rank": " 808",
         "rating": "2482 ",
         "title": "GM"
        },
        {
         "country": "India",
         "index": 830,
         "lastupdated": "03-12-2023",
         "name": "Bharath Subramaniyam",
         "profileimage": "/bundles/web/images/user-image.007dad08.svg",
         "profilelink": "https://www.chess.com/players/bharath-subramaniyam",
         "rank": " 808",
         "rating": "2482 ",
         "title": "GM"
        },
        {
         "country": "China",
         "index": 842,
         "lastupdated": "03-12-2023",
         "name": "Yu Ruiyuan",
         "profileimage": "/bundles/web/images/user-image.007dad08.svg",
         "profilelink": "https://www.chess.com/players/yu-ruiyuan",
         "rank": " 831",
         "rating": "2480 ",
         "title": "GM"
        },
        {
         "country": "China",
         "index": 850,
         "lastupdated": "03-12-2023",
         "name": "Yu Ruiyuan",
         "profileimage": "/bundles/web/images/user-image.007dad08.svg",
         "profilelink": "https://www.chess.com/players/yu-ruiyuan",
         "rank": " 831",
         "rating": "2480 ",
         "title": "GM"
        },
        {
         "country": "Israel",
         "index": 871,
         "lastupdated": "03-12-2023",
         "name": "Danny Raznikov",
         "profileimage": "/bundles/web/images/user-image.007dad08.svg",
         "profilelink": "https://www.chess.com/players/danny-raznikov",
         "rank": " 862",
         "rating": "2476 ",
         "title": "GM"
        },
        {
         "country": "Bosnia-Herzegovina",
         "index": 872,
         "lastupdated": "03-12-2023",
         "name": "Bojan Maksimovic",
         "profileimage": "/bundles/web/images/user-image.007dad08.svg",
         "profilelink": "https://www.chess.com/players/bojan-maksimovic",
         "rank": " 862",
         "rating": "2476 ",
         "title": "IM"
        },
        {
         "country": "Bosnia-Herzegovina",
         "index": 878,
         "lastupdated": "03-12-2023",
         "name": "Bojan Maksimovic",
         "profileimage": "/bundles/web/images/user-image.007dad08.svg",
         "profilelink": "https://www.chess.com/players/bojan-maksimovic",
         "rank": " 862",
         "rating": "2476 ",
         "title": "IM"
        },
        {
         "country": "Israel",
         "index": 880,
         "lastupdated": "03-12-2023",
         "name": "Danny Raznikov",
         "profileimage": "/bundles/web/images/user-image.007dad08.svg",
         "profilelink": "https://www.chess.com/players/danny-raznikov",
         "rank": " 862",
         "rating": "2476 ",
         "title": "GM"
        },
        {
         "country": "Israel",
         "index": 920,
         "lastupdated": "03-12-2023",
         "name": "Eyal Grinberg",
         "profileimage": "/bundles/web/images/user-image.007dad08.svg",
         "profilelink": "https://www.chess.com/players/eyal-grinberg",
         "rank": " 910",
         "rating": "2471 ",
         "title": "IM"
        },
        {
         "country": "Israel",
         "index": 928,
         "lastupdated": "03-12-2023",
         "name": "Eyal Grinberg",
         "profileimage": "/bundles/web/images/user-image.007dad08.svg",
         "profilelink": "https://www.chess.com/players/eyal-grinberg",
         "rank": " 910",
         "rating": "2471 ",
         "title": "IM"
        },
        {
         "country": "France",
         "index": 937,
         "lastupdated": "03-12-2023",
         "name": "Quentin Loiseau",
         "profileimage": "/bundles/web/images/user-image.007dad08.svg",
         "profilelink": "https://www.chess.com/players/quentin-loiseau",
         "rank": " 927",
         "rating": "2469 ",
         "title": "IM"
        },
        {
         "country": "France",
         "index": 950,
         "lastupdated": "03-12-2023",
         "name": "Quentin Loiseau",
         "profileimage": "/bundles/web/images/user-image.007dad08.svg",
         "profilelink": "https://www.chess.com/players/quentin-loiseau",
         "rank": " 927",
         "rating": "2469 ",
         "title": "IM"
        },
        {
         "country": "Norway",
         "index": 971,
         "lastupdated": "03-12-2023",
         "name": "Johannes Haug",
         "profileimage": "/bundles/web/images/user-image.007dad08.svg",
         "profilelink": "https://www.chess.com/players/johannes-haug",
         "rank": " 961",
         "rating": "2467 ",
         "title": "IM"
        },
        {
         "country": "Norway",
         "index": 977,
         "lastupdated": "03-12-2023",
         "name": "Johannes Haug",
         "profileimage": "/bundles/web/images/user-image.007dad08.svg",
         "profilelink": "https://www.chess.com/players/johannes-haug",
         "rank": " 961",
         "rating": "2467 ",
         "title": "IM"
        },
        {
         "country": "China",
         "index": 998,
         "lastupdated": "03-12-2023",
         "name": "Lou Yiping",
         "profileimage": "/bundles/web/images/user-image.007dad08.svg",
         "profilelink": "https://www.chess.com/players/lou-yiping",
         "rank": " 989",
         "rating": "2464 ",
         "title": "IM"
        },
        {
         "country": "Russia",
         "index": 999,
         "lastupdated": "03-12-2023",
         "name": "Sergey Volkov",
         "profileimage": "/bundles/web/images/user-image.007dad08.svg",
         "profilelink": "https://www.chess.com/players/sergey-volkov",
         "rank": " 989",
         "rating": "2464 ",
         "title": "GM"
        },
        {
         "country": "China",
         "index": 1004,
         "lastupdated": "03-12-2023",
         "name": "Lou Yiping",
         "profileimage": "/bundles/web/images/user-image.007dad08.svg",
         "profilelink": "https://www.chess.com/players/lou-yiping",
         "rank": " 989",
         "rating": "2464 ",
         "title": "IM"
        },
        {
         "country": "Russia",
         "index": 1005,
         "lastupdated": "03-12-2023",
         "name": "Sergey Volkov",
         "profileimage": "/bundles/web/images/user-image.007dad08.svg",
         "profilelink": "https://www.chess.com/players/sergey-volkov",
         "rank": " 989",
         "rating": "2464 ",
         "title": "GM"
        },
        {
         "country": "Slovenia",
         "index": 1047,
         "lastupdated": "03-12-2023",
         "name": "Tim Janzelj",
         "profileimage": "/bundles/web/images/user-image.007dad08.svg",
         "profilelink": "https://www.chess.com/players/tim-janzelj",
         "rank": " 1038",
         "rating": "2458 ",
         "title": "IM"
        },
        {
         "country": "Georgia",
         "index": 1049,
         "lastupdated": "03-12-2023",
         "name": "Nikoloz Petriashvili",
         "profileimage": "/bundles/web/images/user-image.007dad08.svg",
         "profilelink": "https://www.chess.com/players/nikoloz-petriashvili",
         "rank": " 1038",
         "rating": "2458 ",
         "title": "IM"
        },
        {
         "country": "Slovenia",
         "index": 1050,
         "lastupdated": "03-12-2023",
         "name": "Tim Janzelj",
         "profileimage": "/bundles/web/images/user-image.007dad08.svg",
         "profilelink": "https://www.chess.com/players/tim-janzelj",
         "rank": " 1038",
         "rating": "2458 ",
         "title": "IM"
        },
        {
         "country": "Georgia",
         "index": 1058,
         "lastupdated": "03-12-2023",
         "name": "Nikoloz Petriashvili",
         "profileimage": "/bundles/web/images/user-image.007dad08.svg",
         "profilelink": "https://www.chess.com/players/nikoloz-petriashvili",
         "rank": " 1038",
         "rating": "2458 ",
         "title": "IM"
        },
        {
         "country": "India",
         "index": 1073,
         "lastupdated": "03-12-2023",
         "name": "Akash G",
         "profileimage": "/bundles/web/images/user-image.007dad08.svg",
         "profilelink": "https://www.chess.com/players/akash-g",
         "rank": " 1063",
         "rating": "2456 ",
         "title": "GM"
        },
        {
         "country": "Germany",
         "index": 1074,
         "lastupdated": "03-12-2023",
         "name": "Henrik Teske",
         "profileimage": "/bundles/web/images/user-image.007dad08.svg",
         "profilelink": "https://www.chess.com/players/henrik-teske",
         "rank": " 1063",
         "rating": "2456 ",
         "title": "GM"
        },
        {
         "country": "India",
         "index": 1077,
         "lastupdated": "03-12-2023",
         "name": "Akash G",
         "profileimage": "/bundles/web/images/user-image.007dad08.svg",
         "profilelink": "https://www.chess.com/players/akash-g",
         "rank": " 1063",
         "rating": "2456 ",
         "title": "GM"
        },
        {
         "country": "Germany",
         "index": 1081,
         "lastupdated": "03-12-2023",
         "name": "Henrik Teske",
         "profileimage": "/bundles/web/images/user-image.007dad08.svg",
         "profilelink": "https://www.chess.com/players/henrik-teske",
         "rank": " 1063",
         "rating": "2456 ",
         "title": "GM"
        },
        {
         "country": "Bosnia-Herzegovina",
         "index": 1099,
         "lastupdated": "03-12-2023",
         "name": "Dalibor Stojanovic",
         "profileimage": "/bundles/web/images/user-image.007dad08.svg",
         "profilelink": "https://www.chess.com/players/dalibor-stojanovic",
         "rank": " 1079",
         "rating": "2454 ",
         "title": "GM"
        },
        {
         "country": "Bosnia-Herzegovina",
         "index": 1100,
         "lastupdated": "03-12-2023",
         "name": "Dalibor Stojanovic",
         "profileimage": "/bundles/web/images/user-image.007dad08.svg",
         "profilelink": "https://www.chess.com/players/dalibor-stojanovic",
         "rank": " 1079",
         "rating": "2454 ",
         "title": "GM"
        }
       ],
       "schema": {
        "fields": [
         {
          "name": "index",
          "type": "integer"
         },
         {
          "name": "name",
          "type": "string"
         },
         {
          "name": "rank",
          "type": "string"
         },
         {
          "name": "rating",
          "type": "string"
         },
         {
          "name": "country",
          "type": "string"
         },
         {
          "name": "title",
          "type": "string"
         },
         {
          "name": "profilelink",
          "type": "string"
         },
         {
          "name": "profileimage",
          "type": "string"
         },
         {
          "name": "lastupdated",
          "type": "string"
         }
        ],
        "pandas_version": "1.4.0",
        "primaryKey": [
         "index"
        ]
       }
      },
      "text/html": [
       "<div>\n",
       "<style scoped>\n",
       "    .dataframe tbody tr th:only-of-type {\n",
       "        vertical-align: middle;\n",
       "    }\n",
       "\n",
       "    .dataframe tbody tr th {\n",
       "        vertical-align: top;\n",
       "    }\n",
       "\n",
       "    .dataframe thead th {\n",
       "        text-align: right;\n",
       "    }\n",
       "</style>\n",
       "<table border=\"1\" class=\"dataframe\">\n",
       "  <thead>\n",
       "    <tr style=\"text-align: right;\">\n",
       "      <th></th>\n",
       "      <th>name</th>\n",
       "      <th>rank</th>\n",
       "      <th>rating</th>\n",
       "      <th>country</th>\n",
       "      <th>title</th>\n",
       "      <th>profilelink</th>\n",
       "      <th>profileimage</th>\n",
       "      <th>lastupdated</th>\n",
       "    </tr>\n",
       "  </thead>\n",
       "  <tbody>\n",
       "    <tr>\n",
       "      <th>198</th>\n",
       "      <td>Stepan Zilka</td>\n",
       "      <td>192</td>\n",
       "      <td>2600</td>\n",
       "      <td>Czech Republic</td>\n",
       "      <td>GM</td>\n",
       "      <td>https://www.chess.com/players/stepan-zilka</td>\n",
       "      <td>/bundles/web/images/user-image.007dad08.svg</td>\n",
       "      <td>03-12-2023</td>\n",
       "    </tr>\n",
       "    <tr>\n",
       "      <th>200</th>\n",
       "      <td>Stepan Zilka</td>\n",
       "      <td>192</td>\n",
       "      <td>2600</td>\n",
       "      <td>Czech Republic</td>\n",
       "      <td>GM</td>\n",
       "      <td>https://www.chess.com/players/stepan-zilka</td>\n",
       "      <td>/bundles/web/images/user-image.007dad08.svg</td>\n",
       "      <td>03-12-2023</td>\n",
       "    </tr>\n",
       "    <tr>\n",
       "      <th>449</th>\n",
       "      <td>Dr Florian Handke</td>\n",
       "      <td>444</td>\n",
       "      <td>2536</td>\n",
       "      <td>Germany</td>\n",
       "      <td>GM</td>\n",
       "      <td>https://www.chess.com/players/dr-florian-handke</td>\n",
       "      <td>/bundles/web/images/user-image.007dad08.svg</td>\n",
       "      <td>03-12-2023</td>\n",
       "    </tr>\n",
       "    <tr>\n",
       "      <th>451</th>\n",
       "      <td>Dr Florian Handke</td>\n",
       "      <td>444</td>\n",
       "      <td>2536</td>\n",
       "      <td>Germany</td>\n",
       "      <td>GM</td>\n",
       "      <td>https://www.chess.com/players/dr-florian-handke</td>\n",
       "      <td>/bundles/web/images/user-image.007dad08.svg</td>\n",
       "      <td>03-12-2023</td>\n",
       "    </tr>\n",
       "    <tr>\n",
       "      <th>474</th>\n",
       "      <td>Robert Ruck</td>\n",
       "      <td>469</td>\n",
       "      <td>2531</td>\n",
       "      <td>Hungary</td>\n",
       "      <td>GM</td>\n",
       "      <td>https://www.chess.com/players/robert-ruck</td>\n",
       "      <td>/bundles/web/images/user-image.007dad08.svg</td>\n",
       "      <td>03-12-2023</td>\n",
       "    </tr>\n",
       "    <tr>\n",
       "      <th>...</th>\n",
       "      <td>...</td>\n",
       "      <td>...</td>\n",
       "      <td>...</td>\n",
       "      <td>...</td>\n",
       "      <td>...</td>\n",
       "      <td>...</td>\n",
       "      <td>...</td>\n",
       "      <td>...</td>\n",
       "    </tr>\n",
       "    <tr>\n",
       "      <th>196643</th>\n",
       "      <td>Carsten Wollenweber</td>\n",
       "      <td>16258</td>\n",
       "      <td>2074</td>\n",
       "      <td>Germany</td>\n",
       "      <td>NaN</td>\n",
       "      <td>https://www.chess.com/players/carsten-wollenweber</td>\n",
       "      <td>/bundles/web/images/user-image.007dad08.svg</td>\n",
       "      <td>13-12-2023</td>\n",
       "    </tr>\n",
       "    <tr>\n",
       "      <th>196655</th>\n",
       "      <td>Carsten Wollenweber</td>\n",
       "      <td>16258</td>\n",
       "      <td>2074</td>\n",
       "      <td>Germany</td>\n",
       "      <td>NaN</td>\n",
       "      <td>https://www.chess.com/players/carsten-wollenweber</td>\n",
       "      <td>/bundles/web/images/user-image.007dad08.svg</td>\n",
       "      <td>13-12-2023</td>\n",
       "    </tr>\n",
       "    <tr>\n",
       "      <th>196656</th>\n",
       "      <td>Jose Ignacio Rebole Arbea</td>\n",
       "      <td>16258</td>\n",
       "      <td>2074</td>\n",
       "      <td>Spain</td>\n",
       "      <td>NaN</td>\n",
       "      <td>https://www.chess.com/players/jose-ignacio-reb...</td>\n",
       "      <td>/bundles/web/images/user-image.007dad08.svg</td>\n",
       "      <td>13-12-2023</td>\n",
       "    </tr>\n",
       "    <tr>\n",
       "      <th>196657</th>\n",
       "      <td>Sven Pronk</td>\n",
       "      <td>16258</td>\n",
       "      <td>2074</td>\n",
       "      <td>Netherlands</td>\n",
       "      <td>NaN</td>\n",
       "      <td>https://www.chess.com/players/sven-pronk</td>\n",
       "      <td>/bundles/web/images/user-image.007dad08.svg</td>\n",
       "      <td>13-12-2023</td>\n",
       "    </tr>\n",
       "    <tr>\n",
       "      <th>196659</th>\n",
       "      <td>Tomas Ockay</td>\n",
       "      <td>16258</td>\n",
       "      <td>2074</td>\n",
       "      <td>Czech Republic</td>\n",
       "      <td>NaN</td>\n",
       "      <td>https://www.chess.com/players/tomas-ockay</td>\n",
       "      <td>/bundles/web/images/user-image.007dad08.svg</td>\n",
       "      <td>13-12-2023</td>\n",
       "    </tr>\n",
       "  </tbody>\n",
       "</table>\n",
       "<p>67780 rows × 8 columns</p>\n",
       "</div>"
      ],
      "text/plain": [
       "                             name    rank rating         country title  \\\n",
       "198                  Stepan Zilka     192  2600   Czech Republic    GM   \n",
       "200                  Stepan Zilka     192  2600   Czech Republic    GM   \n",
       "449             Dr Florian Handke     444  2536          Germany    GM   \n",
       "451             Dr Florian Handke     444  2536          Germany    GM   \n",
       "474                   Robert Ruck     469  2531          Hungary    GM   \n",
       "...                           ...     ...    ...             ...   ...   \n",
       "196643        Carsten Wollenweber   16258  2074          Germany   NaN   \n",
       "196655        Carsten Wollenweber   16258  2074          Germany   NaN   \n",
       "196656  Jose Ignacio Rebole Arbea   16258  2074            Spain   NaN   \n",
       "196657                 Sven Pronk   16258  2074      Netherlands   NaN   \n",
       "196659                Tomas Ockay   16258  2074   Czech Republic   NaN   \n",
       "\n",
       "                                              profilelink  \\\n",
       "198            https://www.chess.com/players/stepan-zilka   \n",
       "200            https://www.chess.com/players/stepan-zilka   \n",
       "449       https://www.chess.com/players/dr-florian-handke   \n",
       "451       https://www.chess.com/players/dr-florian-handke   \n",
       "474             https://www.chess.com/players/robert-ruck   \n",
       "...                                                   ...   \n",
       "196643  https://www.chess.com/players/carsten-wollenweber   \n",
       "196655  https://www.chess.com/players/carsten-wollenweber   \n",
       "196656  https://www.chess.com/players/jose-ignacio-reb...   \n",
       "196657           https://www.chess.com/players/sven-pronk   \n",
       "196659          https://www.chess.com/players/tomas-ockay   \n",
       "\n",
       "                                       profileimage lastupdated  \n",
       "198     /bundles/web/images/user-image.007dad08.svg  03-12-2023  \n",
       "200     /bundles/web/images/user-image.007dad08.svg  03-12-2023  \n",
       "449     /bundles/web/images/user-image.007dad08.svg  03-12-2023  \n",
       "451     /bundles/web/images/user-image.007dad08.svg  03-12-2023  \n",
       "474     /bundles/web/images/user-image.007dad08.svg  03-12-2023  \n",
       "...                                             ...         ...  \n",
       "196643  /bundles/web/images/user-image.007dad08.svg  13-12-2023  \n",
       "196655  /bundles/web/images/user-image.007dad08.svg  13-12-2023  \n",
       "196656  /bundles/web/images/user-image.007dad08.svg  13-12-2023  \n",
       "196657  /bundles/web/images/user-image.007dad08.svg  13-12-2023  \n",
       "196659  /bundles/web/images/user-image.007dad08.svg  13-12-2023  \n",
       "\n",
       "[67780 rows x 8 columns]"
      ]
     },
     "execution_count": 115,
     "metadata": {},
     "output_type": "execute_result"
    }
   ],
   "source": [
    "# Lets see duplicate rows\n",
    "duplicate_rows = chess_df[chess_df.duplicated(keep=False)]\n",
    "duplicate_rows"
   ]
  },
  {
   "cell_type": "code",
   "execution_count": 116,
   "id": "ad4b6960-9907-4763-aa08-e95b4b216d1a",
   "metadata": {},
   "outputs": [
    {
     "name": "stdout",
     "output_type": "stream",
     "text": [
      "Duplicates count: 0\n"
     ]
    }
   ],
   "source": [
    "# Remove duplicates\n",
    "chess_df = chess_df.drop_duplicates(keep='last')\n",
    "duplicate_count = chess_df.duplicated().sum()\n",
    "print(f'Duplicates count: {duplicate_count}')"
   ]
  },
  {
   "cell_type": "code",
   "execution_count": 117,
   "id": "fd0e6a06-42e7-431a-b4b6-19379eb0b0ef",
   "metadata": {},
   "outputs": [],
   "source": [
    "# Remove players without official FIDE title\n",
    "chess_df = chess_df.dropna(subset=['title'])"
   ]
  },
  {
   "cell_type": "code",
   "execution_count": 118,
   "id": "5843e16f-cc66-4914-8a7f-7455b81440e7",
   "metadata": {},
   "outputs": [],
   "source": [
    "# Remove 'profileimage' and 'profilelink' columns\n",
    "chess_df.drop(['profileimage', 'profilelink'], axis=1, inplace=True)"
   ]
  },
  {
   "cell_type": "code",
   "execution_count": 119,
   "id": "4120987f-2dfc-4e68-b94f-db97bfda7042",
   "metadata": {},
   "outputs": [],
   "source": [
    "# Assign correct data types\n",
    "chess_df['rank'] = pd.to_numeric(chess_df['rank'])\n",
    "chess_df['rating'] = pd.to_numeric(chess_df['rating'])\n",
    "chess_df['lastupdated'] = pd.to_datetime(chess_df['lastupdated'], format='%d-%m-%Y')\n",
    "chess_df['lastupdated'] = pd.to_datetime(chess_df['lastupdated'])"
   ]
  },
  {
   "cell_type": "code",
   "execution_count": 120,
   "id": "7d6a8c5d-62e5-40e3-a2c8-f96b9d59bb92",
   "metadata": {},
   "outputs": [
    {
     "name": "stdout",
     "output_type": "stream",
     "text": [
      "<class 'pandas.core.frame.DataFrame'>\n",
      "Index: 81254 entries, 0 to 196646\n",
      "Data columns (total 6 columns):\n",
      " #   Column       Non-Null Count  Dtype         \n",
      "---  ------       --------------  -----         \n",
      " 0   name         81254 non-null  object        \n",
      " 1   rank         81254 non-null  int64         \n",
      " 2   rating       81254 non-null  int64         \n",
      " 3   country      81254 non-null  object        \n",
      " 4   title        81254 non-null  object        \n",
      " 5   lastupdated  81254 non-null  datetime64[ns]\n",
      "dtypes: datetime64[ns](1), int64(2), object(3)\n",
      "memory usage: 4.3+ MB\n"
     ]
    }
   ],
   "source": [
    "chess_df.info()"
   ]
  },
  {
   "cell_type": "markdown",
   "id": "3b3ede96-1031-4e81-ab98-0c8da7865f2c",
   "metadata": {},
   "source": [
    "---\n",
    "## 3. Preparation for Dataviz"
   ]
  },
  {
   "cell_type": "code",
   "execution_count": 121,
   "id": "3dae89bf-b51a-425b-9dc5-2355809da916",
   "metadata": {},
   "outputs": [
    {
     "data": {
      "application/vnd.dataresource+json": {
       "data": [
        {
         "country": "Norway",
         "index": 0,
         "lastupdated": "2023-12-03T00:00:00.000",
         "name": "Magnus Carlsen",
         "rank": 1,
         "rating": 2830,
         "rating_category": "2800+",
         "title": "GM"
        },
        {
         "country": "United States",
         "index": 1,
         "lastupdated": "2023-12-03T00:00:00.000",
         "name": "Fabiano Caruana",
         "rank": 2,
         "rating": 2796,
         "rating_category": "2700-2799",
         "title": "GM"
        },
        {
         "country": "United States",
         "index": 2,
         "lastupdated": "2023-12-03T00:00:00.000",
         "name": "Hikaru Nakamura",
         "rank": 3,
         "rating": 2788,
         "rating_category": "2700-2799",
         "title": "GM"
        },
        {
         "country": "China",
         "index": 3,
         "lastupdated": "2023-12-03T00:00:00.000",
         "name": "Ding Liren",
         "rank": 4,
         "rating": 2780,
         "rating_category": "2700-2799",
         "title": "GM"
        },
        {
         "country": "Russia",
         "index": 4,
         "lastupdated": "2023-12-03T00:00:00.000",
         "name": "Ian Nepomniachtchi",
         "rank": 5,
         "rating": 2770,
         "rating_category": "2700-2799",
         "title": "GM"
        }
       ],
       "schema": {
        "fields": [
         {
          "name": "index",
          "type": "integer"
         },
         {
          "name": "name",
          "type": "string"
         },
         {
          "name": "rank",
          "type": "integer"
         },
         {
          "name": "rating",
          "type": "integer"
         },
         {
          "name": "country",
          "type": "string"
         },
         {
          "name": "title",
          "type": "string"
         },
         {
          "name": "lastupdated",
          "type": "datetime"
         },
         {
          "name": "rating_category",
          "type": "string"
         }
        ],
        "pandas_version": "1.4.0",
        "primaryKey": [
         "index"
        ]
       }
      },
      "text/html": [
       "<div>\n",
       "<style scoped>\n",
       "    .dataframe tbody tr th:only-of-type {\n",
       "        vertical-align: middle;\n",
       "    }\n",
       "\n",
       "    .dataframe tbody tr th {\n",
       "        vertical-align: top;\n",
       "    }\n",
       "\n",
       "    .dataframe thead th {\n",
       "        text-align: right;\n",
       "    }\n",
       "</style>\n",
       "<table border=\"1\" class=\"dataframe\">\n",
       "  <thead>\n",
       "    <tr style=\"text-align: right;\">\n",
       "      <th></th>\n",
       "      <th>name</th>\n",
       "      <th>rank</th>\n",
       "      <th>rating</th>\n",
       "      <th>country</th>\n",
       "      <th>title</th>\n",
       "      <th>lastupdated</th>\n",
       "      <th>rating_category</th>\n",
       "    </tr>\n",
       "  </thead>\n",
       "  <tbody>\n",
       "    <tr>\n",
       "      <th>0</th>\n",
       "      <td>Magnus Carlsen</td>\n",
       "      <td>1</td>\n",
       "      <td>2830</td>\n",
       "      <td>Norway</td>\n",
       "      <td>GM</td>\n",
       "      <td>2023-12-03</td>\n",
       "      <td>2800+</td>\n",
       "    </tr>\n",
       "    <tr>\n",
       "      <th>1</th>\n",
       "      <td>Fabiano Caruana</td>\n",
       "      <td>2</td>\n",
       "      <td>2796</td>\n",
       "      <td>United States</td>\n",
       "      <td>GM</td>\n",
       "      <td>2023-12-03</td>\n",
       "      <td>2700-2799</td>\n",
       "    </tr>\n",
       "    <tr>\n",
       "      <th>2</th>\n",
       "      <td>Hikaru Nakamura</td>\n",
       "      <td>3</td>\n",
       "      <td>2788</td>\n",
       "      <td>United States</td>\n",
       "      <td>GM</td>\n",
       "      <td>2023-12-03</td>\n",
       "      <td>2700-2799</td>\n",
       "    </tr>\n",
       "    <tr>\n",
       "      <th>3</th>\n",
       "      <td>Ding Liren</td>\n",
       "      <td>4</td>\n",
       "      <td>2780</td>\n",
       "      <td>China</td>\n",
       "      <td>GM</td>\n",
       "      <td>2023-12-03</td>\n",
       "      <td>2700-2799</td>\n",
       "    </tr>\n",
       "    <tr>\n",
       "      <th>4</th>\n",
       "      <td>Ian Nepomniachtchi</td>\n",
       "      <td>5</td>\n",
       "      <td>2770</td>\n",
       "      <td>Russia</td>\n",
       "      <td>GM</td>\n",
       "      <td>2023-12-03</td>\n",
       "      <td>2700-2799</td>\n",
       "    </tr>\n",
       "  </tbody>\n",
       "</table>\n",
       "</div>"
      ],
      "text/plain": [
       "                 name  rank  rating        country title lastupdated  \\\n",
       "0      Magnus Carlsen     1    2830         Norway    GM  2023-12-03   \n",
       "1     Fabiano Caruana     2    2796  United States    GM  2023-12-03   \n",
       "2     Hikaru Nakamura     3    2788  United States    GM  2023-12-03   \n",
       "3          Ding Liren     4    2780          China    GM  2023-12-03   \n",
       "4  Ian Nepomniachtchi     5    2770         Russia    GM  2023-12-03   \n",
       "\n",
       "  rating_category  \n",
       "0           2800+  \n",
       "1       2700-2799  \n",
       "2       2700-2799  \n",
       "3       2700-2799  \n",
       "4       2700-2799  "
      ]
     },
     "execution_count": 121,
     "metadata": {},
     "output_type": "execute_result"
    }
   ],
   "source": [
    "# Segmenting data based on rating\n",
    "def rating_category(rating):\n",
    "    if rating >= 2800:\n",
    "        return '2800+'\n",
    "    elif 2700 <= rating < 2800:\n",
    "        return '2700-2799'\n",
    "    elif 2600 <= rating < 2700:\n",
    "        return '2600-2699'\n",
    "    elif 2500 <= rating < 2600:\n",
    "        return '2500-2599'\n",
    "    else:\n",
    "        return 'Below 2500'\n",
    "\n",
    "chess_df['rating_category'] = chess_df['rating'].apply(rating_category)\n",
    "chess_df.head()"
   ]
  },
  {
   "cell_type": "code",
   "execution_count": 122,
   "id": "1fb02c9e-764d-4362-9486-7f4adc586cbb",
   "metadata": {},
   "outputs": [
    {
     "data": {
      "application/vnd.dataresource+json": {
       "data": [
        {
         "average_rating": 2021,
         "country": "Afghanistan",
         "index": 0,
         "player_count": 3
        },
        {
         "average_rating": 2337,
         "country": "Albania",
         "index": 1,
         "player_count": 55
        },
        {
         "average_rating": 2229,
         "country": "Algeria",
         "index": 2,
         "player_count": 158
        },
        {
         "average_rating": 2292,
         "country": "Andorra",
         "index": 3,
         "player_count": 62
        },
        {
         "average_rating": 2163,
         "country": "Angola",
         "index": 4,
         "player_count": 88
        }
       ],
       "schema": {
        "fields": [
         {
          "name": "index",
          "type": "integer"
         },
         {
          "name": "country",
          "type": "string"
         },
         {
          "name": "average_rating",
          "type": "integer"
         },
         {
          "name": "player_count",
          "type": "integer"
         }
        ],
        "pandas_version": "1.4.0",
        "primaryKey": [
         "index"
        ]
       }
      },
      "text/html": [
       "<div>\n",
       "<style scoped>\n",
       "    .dataframe tbody tr th:only-of-type {\n",
       "        vertical-align: middle;\n",
       "    }\n",
       "\n",
       "    .dataframe tbody tr th {\n",
       "        vertical-align: top;\n",
       "    }\n",
       "\n",
       "    .dataframe thead th {\n",
       "        text-align: right;\n",
       "    }\n",
       "</style>\n",
       "<table border=\"1\" class=\"dataframe\">\n",
       "  <thead>\n",
       "    <tr style=\"text-align: right;\">\n",
       "      <th></th>\n",
       "      <th>country</th>\n",
       "      <th>average_rating</th>\n",
       "      <th>player_count</th>\n",
       "    </tr>\n",
       "  </thead>\n",
       "  <tbody>\n",
       "    <tr>\n",
       "      <th>0</th>\n",
       "      <td>Afghanistan</td>\n",
       "      <td>2021</td>\n",
       "      <td>3</td>\n",
       "    </tr>\n",
       "    <tr>\n",
       "      <th>1</th>\n",
       "      <td>Albania</td>\n",
       "      <td>2337</td>\n",
       "      <td>55</td>\n",
       "    </tr>\n",
       "    <tr>\n",
       "      <th>2</th>\n",
       "      <td>Algeria</td>\n",
       "      <td>2229</td>\n",
       "      <td>158</td>\n",
       "    </tr>\n",
       "    <tr>\n",
       "      <th>3</th>\n",
       "      <td>Andorra</td>\n",
       "      <td>2292</td>\n",
       "      <td>62</td>\n",
       "    </tr>\n",
       "    <tr>\n",
       "      <th>4</th>\n",
       "      <td>Angola</td>\n",
       "      <td>2163</td>\n",
       "      <td>88</td>\n",
       "    </tr>\n",
       "  </tbody>\n",
       "</table>\n",
       "</div>"
      ],
      "text/plain": [
       "       country  average_rating  player_count\n",
       "0  Afghanistan            2021             3\n",
       "1      Albania            2337            55\n",
       "2      Algeria            2229           158\n",
       "3      Andorra            2292            62\n",
       "4       Angola            2163            88"
      ]
     },
     "execution_count": 122,
     "metadata": {},
     "output_type": "execute_result"
    }
   ],
   "source": [
    "# Average rating per country with player count\n",
    "avg_country = chess_df.groupby('country')['rating'].agg(['mean', 'count']).reset_index()\n",
    "avg_country['mean'] = avg_country['mean'].round().astype(int)\n",
    "avg_country = avg_country.rename(columns={'mean': 'average_rating', 'count': 'player_count'})\n",
    "avg_country.head()"
   ]
  },
  {
   "cell_type": "code",
   "execution_count": 123,
   "id": "203b950a-80cc-40af-8842-565a35f58320",
   "metadata": {},
   "outputs": [
    {
     "data": {
      "application/vnd.dataresource+json": {
       "data": [
        {
         "average_rating": 2160,
         "index": 0,
         "player_count": 5736,
         "title": "CM"
        },
        {
         "average_rating": 2244,
         "index": 1,
         "player_count": 35570,
         "title": "FM"
        },
        {
         "average_rating": 2500,
         "index": 2,
         "player_count": 13239,
         "title": "GM"
        },
        {
         "average_rating": 2346,
         "index": 3,
         "player_count": 21022,
         "title": "IM"
        },
        {
         "average_rating": 2058,
         "index": 4,
         "player_count": 114,
         "title": "WCM"
        },
        {
         "average_rating": 2105,
         "index": 5,
         "player_count": 1792,
         "title": "WFM"
        },
        {
         "average_rating": 2234,
         "index": 6,
         "player_count": 1528,
         "title": "WGM"
        },
        {
         "average_rating": 2168,
         "index": 7,
         "player_count": 2253,
         "title": "WIM"
        }
       ],
       "schema": {
        "fields": [
         {
          "name": "index",
          "type": "integer"
         },
         {
          "name": "title",
          "type": "string"
         },
         {
          "name": "average_rating",
          "type": "integer"
         },
         {
          "name": "player_count",
          "type": "integer"
         }
        ],
        "pandas_version": "1.4.0",
        "primaryKey": [
         "index"
        ]
       }
      },
      "text/html": [
       "<div>\n",
       "<style scoped>\n",
       "    .dataframe tbody tr th:only-of-type {\n",
       "        vertical-align: middle;\n",
       "    }\n",
       "\n",
       "    .dataframe tbody tr th {\n",
       "        vertical-align: top;\n",
       "    }\n",
       "\n",
       "    .dataframe thead th {\n",
       "        text-align: right;\n",
       "    }\n",
       "</style>\n",
       "<table border=\"1\" class=\"dataframe\">\n",
       "  <thead>\n",
       "    <tr style=\"text-align: right;\">\n",
       "      <th></th>\n",
       "      <th>title</th>\n",
       "      <th>average_rating</th>\n",
       "      <th>player_count</th>\n",
       "    </tr>\n",
       "  </thead>\n",
       "  <tbody>\n",
       "    <tr>\n",
       "      <th>0</th>\n",
       "      <td>CM</td>\n",
       "      <td>2160</td>\n",
       "      <td>5736</td>\n",
       "    </tr>\n",
       "    <tr>\n",
       "      <th>1</th>\n",
       "      <td>FM</td>\n",
       "      <td>2244</td>\n",
       "      <td>35570</td>\n",
       "    </tr>\n",
       "    <tr>\n",
       "      <th>2</th>\n",
       "      <td>GM</td>\n",
       "      <td>2500</td>\n",
       "      <td>13239</td>\n",
       "    </tr>\n",
       "    <tr>\n",
       "      <th>3</th>\n",
       "      <td>IM</td>\n",
       "      <td>2346</td>\n",
       "      <td>21022</td>\n",
       "    </tr>\n",
       "    <tr>\n",
       "      <th>4</th>\n",
       "      <td>WCM</td>\n",
       "      <td>2058</td>\n",
       "      <td>114</td>\n",
       "    </tr>\n",
       "    <tr>\n",
       "      <th>5</th>\n",
       "      <td>WFM</td>\n",
       "      <td>2105</td>\n",
       "      <td>1792</td>\n",
       "    </tr>\n",
       "    <tr>\n",
       "      <th>6</th>\n",
       "      <td>WGM</td>\n",
       "      <td>2234</td>\n",
       "      <td>1528</td>\n",
       "    </tr>\n",
       "    <tr>\n",
       "      <th>7</th>\n",
       "      <td>WIM</td>\n",
       "      <td>2168</td>\n",
       "      <td>2253</td>\n",
       "    </tr>\n",
       "  </tbody>\n",
       "</table>\n",
       "</div>"
      ],
      "text/plain": [
       "  title  average_rating  player_count\n",
       "0    CM            2160          5736\n",
       "1    FM            2244         35570\n",
       "2    GM            2500         13239\n",
       "3    IM            2346         21022\n",
       "4   WCM            2058           114\n",
       "5   WFM            2105          1792\n",
       "6   WGM            2234          1528\n",
       "7   WIM            2168          2253"
      ]
     },
     "execution_count": 123,
     "metadata": {},
     "output_type": "execute_result"
    }
   ],
   "source": [
    "# Average rating per title with player count\n",
    "avg_title = chess_df.groupby('title')['rating'].agg(['mean', 'count']).reset_index()\n",
    "avg_title['mean'] = avg_title['mean'].round().astype(int)\n",
    "avg_title = avg_title.rename(columns={'mean': 'average_rating', 'count': 'player_count'})\n",
    "\n",
    "avg_title.head(8)"
   ]
  },
  {
   "cell_type": "code",
   "execution_count": 124,
   "id": "8560ab0e-0f40-4a8a-96d2-a3151a93823e",
   "metadata": {},
   "outputs": [
    {
     "data": {
      "application/vnd.dataresource+json": {
       "data": [
        {
         "country": "Norway",
         "index": 0,
         "lastupdated": "2023-12-03T00:00:00.000",
         "name": "Magnus Carlsen",
         "rank": 1,
         "rating": 2830,
         "rating_category": "2800+",
         "title": "GM"
        },
        {
         "country": "United States",
         "index": 1,
         "lastupdated": "2023-12-03T00:00:00.000",
         "name": "Fabiano Caruana",
         "rank": 2,
         "rating": 2796,
         "rating_category": "2700-2799",
         "title": "GM"
        },
        {
         "country": "United States",
         "index": 2,
         "lastupdated": "2023-12-03T00:00:00.000",
         "name": "Hikaru Nakamura",
         "rank": 3,
         "rating": 2788,
         "rating_category": "2700-2799",
         "title": "GM"
        },
        {
         "country": "China",
         "index": 3,
         "lastupdated": "2023-12-03T00:00:00.000",
         "name": "Ding Liren",
         "rank": 4,
         "rating": 2780,
         "rating_category": "2700-2799",
         "title": "GM"
        },
        {
         "country": "Russia",
         "index": 4,
         "lastupdated": "2023-12-03T00:00:00.000",
         "name": "Ian Nepomniachtchi",
         "rank": 5,
         "rating": 2770,
         "rating_category": "2700-2799",
         "title": "GM"
        },
        {
         "country": "United States",
         "index": 5,
         "lastupdated": "2023-12-03T00:00:00.000",
         "name": "Wesley So",
         "rank": 6,
         "rating": 2762,
         "rating_category": "2700-2799",
         "title": "GM"
        },
        {
         "country": "United States",
         "index": 6,
         "lastupdated": "2023-12-03T00:00:00.000",
         "name": "Leinier Dominguez Perez",
         "rank": 7,
         "rating": 2752,
         "rating_category": "2700-2799",
         "title": "GM"
        },
        {
         "country": "France",
         "index": 7,
         "lastupdated": "2023-12-03T00:00:00.000",
         "name": "Alireza Firouzja",
         "rank": 8,
         "rating": 2751,
         "rating_category": "2700-2799",
         "title": "GM"
        },
        {
         "country": "Russia",
         "index": 8,
         "lastupdated": "2023-12-03T00:00:00.000",
         "name": "Sergey Karjakin",
         "rank": 9,
         "rating": 2750,
         "rating_category": "2700-2799",
         "title": "GM"
        },
        {
         "country": "Netherlands",
         "index": 9,
         "lastupdated": "2023-12-03T00:00:00.000",
         "name": "Anish Giri",
         "rank": 10,
         "rating": 2749,
         "rating_category": "2700-2799",
         "title": "GM"
        }
       ],
       "schema": {
        "fields": [
         {
          "name": "index",
          "type": "integer"
         },
         {
          "name": "name",
          "type": "string"
         },
         {
          "name": "rank",
          "type": "integer"
         },
         {
          "name": "rating",
          "type": "integer"
         },
         {
          "name": "country",
          "type": "string"
         },
         {
          "name": "title",
          "type": "string"
         },
         {
          "name": "lastupdated",
          "type": "datetime"
         },
         {
          "name": "rating_category",
          "type": "string"
         }
        ],
        "pandas_version": "1.4.0",
        "primaryKey": [
         "index"
        ]
       }
      },
      "text/html": [
       "<div>\n",
       "<style scoped>\n",
       "    .dataframe tbody tr th:only-of-type {\n",
       "        vertical-align: middle;\n",
       "    }\n",
       "\n",
       "    .dataframe tbody tr th {\n",
       "        vertical-align: top;\n",
       "    }\n",
       "\n",
       "    .dataframe thead th {\n",
       "        text-align: right;\n",
       "    }\n",
       "</style>\n",
       "<table border=\"1\" class=\"dataframe\">\n",
       "  <thead>\n",
       "    <tr style=\"text-align: right;\">\n",
       "      <th></th>\n",
       "      <th>name</th>\n",
       "      <th>rank</th>\n",
       "      <th>rating</th>\n",
       "      <th>country</th>\n",
       "      <th>title</th>\n",
       "      <th>lastupdated</th>\n",
       "      <th>rating_category</th>\n",
       "    </tr>\n",
       "  </thead>\n",
       "  <tbody>\n",
       "    <tr>\n",
       "      <th>0</th>\n",
       "      <td>Magnus Carlsen</td>\n",
       "      <td>1</td>\n",
       "      <td>2830</td>\n",
       "      <td>Norway</td>\n",
       "      <td>GM</td>\n",
       "      <td>2023-12-03</td>\n",
       "      <td>2800+</td>\n",
       "    </tr>\n",
       "    <tr>\n",
       "      <th>1</th>\n",
       "      <td>Fabiano Caruana</td>\n",
       "      <td>2</td>\n",
       "      <td>2796</td>\n",
       "      <td>United States</td>\n",
       "      <td>GM</td>\n",
       "      <td>2023-12-03</td>\n",
       "      <td>2700-2799</td>\n",
       "    </tr>\n",
       "    <tr>\n",
       "      <th>2</th>\n",
       "      <td>Hikaru Nakamura</td>\n",
       "      <td>3</td>\n",
       "      <td>2788</td>\n",
       "      <td>United States</td>\n",
       "      <td>GM</td>\n",
       "      <td>2023-12-03</td>\n",
       "      <td>2700-2799</td>\n",
       "    </tr>\n",
       "    <tr>\n",
       "      <th>3</th>\n",
       "      <td>Ding Liren</td>\n",
       "      <td>4</td>\n",
       "      <td>2780</td>\n",
       "      <td>China</td>\n",
       "      <td>GM</td>\n",
       "      <td>2023-12-03</td>\n",
       "      <td>2700-2799</td>\n",
       "    </tr>\n",
       "    <tr>\n",
       "      <th>4</th>\n",
       "      <td>Ian Nepomniachtchi</td>\n",
       "      <td>5</td>\n",
       "      <td>2770</td>\n",
       "      <td>Russia</td>\n",
       "      <td>GM</td>\n",
       "      <td>2023-12-03</td>\n",
       "      <td>2700-2799</td>\n",
       "    </tr>\n",
       "    <tr>\n",
       "      <th>5</th>\n",
       "      <td>Wesley So</td>\n",
       "      <td>6</td>\n",
       "      <td>2762</td>\n",
       "      <td>United States</td>\n",
       "      <td>GM</td>\n",
       "      <td>2023-12-03</td>\n",
       "      <td>2700-2799</td>\n",
       "    </tr>\n",
       "    <tr>\n",
       "      <th>6</th>\n",
       "      <td>Leinier Dominguez Perez</td>\n",
       "      <td>7</td>\n",
       "      <td>2752</td>\n",
       "      <td>United States</td>\n",
       "      <td>GM</td>\n",
       "      <td>2023-12-03</td>\n",
       "      <td>2700-2799</td>\n",
       "    </tr>\n",
       "    <tr>\n",
       "      <th>7</th>\n",
       "      <td>Alireza Firouzja</td>\n",
       "      <td>8</td>\n",
       "      <td>2751</td>\n",
       "      <td>France</td>\n",
       "      <td>GM</td>\n",
       "      <td>2023-12-03</td>\n",
       "      <td>2700-2799</td>\n",
       "    </tr>\n",
       "    <tr>\n",
       "      <th>8</th>\n",
       "      <td>Sergey Karjakin</td>\n",
       "      <td>9</td>\n",
       "      <td>2750</td>\n",
       "      <td>Russia</td>\n",
       "      <td>GM</td>\n",
       "      <td>2023-12-03</td>\n",
       "      <td>2700-2799</td>\n",
       "    </tr>\n",
       "    <tr>\n",
       "      <th>9</th>\n",
       "      <td>Anish Giri</td>\n",
       "      <td>10</td>\n",
       "      <td>2749</td>\n",
       "      <td>Netherlands</td>\n",
       "      <td>GM</td>\n",
       "      <td>2023-12-03</td>\n",
       "      <td>2700-2799</td>\n",
       "    </tr>\n",
       "  </tbody>\n",
       "</table>\n",
       "</div>"
      ],
      "text/plain": [
       "                      name  rank  rating        country title lastupdated  \\\n",
       "0           Magnus Carlsen     1    2830         Norway    GM  2023-12-03   \n",
       "1          Fabiano Caruana     2    2796  United States    GM  2023-12-03   \n",
       "2          Hikaru Nakamura     3    2788  United States    GM  2023-12-03   \n",
       "3               Ding Liren     4    2780          China    GM  2023-12-03   \n",
       "4       Ian Nepomniachtchi     5    2770         Russia    GM  2023-12-03   \n",
       "5                Wesley So     6    2762  United States    GM  2023-12-03   \n",
       "6  Leinier Dominguez Perez     7    2752  United States    GM  2023-12-03   \n",
       "7         Alireza Firouzja     8    2751         France    GM  2023-12-03   \n",
       "8          Sergey Karjakin     9    2750         Russia    GM  2023-12-03   \n",
       "9               Anish Giri    10    2749    Netherlands    GM  2023-12-03   \n",
       "\n",
       "  rating_category  \n",
       "0           2800+  \n",
       "1       2700-2799  \n",
       "2       2700-2799  \n",
       "3       2700-2799  \n",
       "4       2700-2799  \n",
       "5       2700-2799  \n",
       "6       2700-2799  \n",
       "7       2700-2799  \n",
       "8       2700-2799  \n",
       "9       2700-2799  "
      ]
     },
     "execution_count": 124,
     "metadata": {},
     "output_type": "execute_result"
    }
   ],
   "source": [
    "chess_df.head(10)"
   ]
  },
  {
   "cell_type": "code",
   "execution_count": 125,
   "id": "d6743f07-aab3-4634-8907-5825d07a82b7",
   "metadata": {},
   "outputs": [],
   "source": [
    "# Export data for data visualization\n",
    "chess_df.to_csv('chess_df.csv', index=False)\n",
    "avg_country.to_csv('avg_country.csv', index=False)\n",
    "avg_title.to_csv('avg_title.csv', index=False)"
   ]
  },
  {
   "cell_type": "code",
   "execution_count": 126,
   "id": "1aef282e-7a75-412f-a9c9-d5e0d4a35436",
   "metadata": {},
   "outputs": [
    {
     "name": "stdout",
     "output_type": "stream",
     "text": [
      "<class 'pandas.core.frame.DataFrame'>\n",
      "Index: 81254 entries, 0 to 196646\n",
      "Data columns (total 7 columns):\n",
      " #   Column           Non-Null Count  Dtype         \n",
      "---  ------           --------------  -----         \n",
      " 0   name             81254 non-null  object        \n",
      " 1   rank             81254 non-null  int64         \n",
      " 2   rating           81254 non-null  int64         \n",
      " 3   country          81254 non-null  object        \n",
      " 4   title            81254 non-null  object        \n",
      " 5   lastupdated      81254 non-null  datetime64[ns]\n",
      " 6   rating_category  81254 non-null  object        \n",
      "dtypes: datetime64[ns](1), int64(2), object(4)\n",
      "memory usage: 5.0+ MB\n"
     ]
    }
   ],
   "source": [
    "chess_df.info()"
   ]
  },
  {
   "cell_type": "markdown",
   "id": "2d9d8346-ad5a-40a4-8632-1db8157cea22",
   "metadata": {},
   "source": [
    "---\n",
    "### ♟️ [Link to Tableau Visualization](https://public.tableau.com/app/profile/mantastech/viz/chess_17027630680570/Dashboard1) ♟\n",
    "---"
   ]
  }
 ],
 "metadata": {
  "kernelspec": {
   "display_name": "Python 3 (ipykernel)",
   "language": "python",
   "name": "python3"
  },
  "language_info": {
   "codemirror_mode": {
    "name": "ipython",
    "version": 3
   },
   "file_extension": ".py",
   "mimetype": "text/x-python",
   "name": "python",
   "nbconvert_exporter": "python",
   "pygments_lexer": "ipython3",
   "version": "3.11.5"
  }
 },
 "nbformat": 4,
 "nbformat_minor": 5
}
